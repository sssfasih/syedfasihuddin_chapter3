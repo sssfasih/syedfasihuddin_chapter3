{
 "cells": [
  {
   "cell_type": "code",
   "execution_count": 1,
   "metadata": {},
   "outputs": [
    {
     "name": "stdout",
     "output_type": "stream",
     "text": [
      "Enter the temperature in degrees Fahrenheit: 45\n",
      "The temperature in degrees Celsius is 7.222222222222222\n"
     ]
    }
   ],
   "source": [
    "#3.1\n",
    "fahr = eval(input('Enter the temperature in degrees Fahrenheit: '))\n",
    "cels = (fahr - 32) * 5 / 9\n",
    "print('The temperature in degrees Celsius is', cels)"
   ]
  },
  {
   "cell_type": "code",
   "execution_count": 3,
   "metadata": {},
   "outputs": [
    {
     "name": "stdout",
     "output_type": "stream",
     "text": [
      "Enter age:78\n",
      "Enter name of baseball playeraaron\n",
      "Enter how many hits, hit the target:6\n",
      "Health of shield5\n",
      "You can get your pension benefits!\n"
     ]
    }
   ],
   "source": [
    "#3.2\n",
    "age=int(input(\"Enter age:\"))\n",
    "name=input(\"Enter name of baseball player\")\n",
    "hits=int(input(\"Enter how many hits, hit the target:\"))\n",
    "shield=int(input(\"Health of shield\"))\n",
    "if age > 62:\n",
    "    print('You can get your pension benefits!')\n",
    "if name in ['Musial','Aaron','Williams','Gehrig','Ruth']:\n",
    "    print('One of the top 5 baseball players, ever!')\n",
    "if hits > 10 and shield == 0:\n",
    "    print('You\\'re dead ...')"
   ]
  },
  {
   "cell_type": "code",
   "execution_count": 2,
   "metadata": {},
   "outputs": [
    {
     "name": "stdout",
     "output_type": "stream",
     "text": [
      "Enter year to find if it is a leap year or not 2019\n",
      "Definitely not a leap year.\n",
      "Enter your ticket number5\n",
      "You won!\n"
     ]
    }
   ],
   "source": [
    "#3.3\n",
    "year=int(input(\"Enter year to find if it is a leap year or not \"))\n",
    "if year % 4 == 0:\n",
    "    print('Could be a leap year.')\n",
    "else:\n",
    "    print('Definitely not a leap year.')\n",
    "ticket=int(input(\"Enter your ticket number\"))\n",
    "lottery=[1,2,3,4,5,6,7]\n",
    "if ticket in lottery:\n",
    "     print('You won!')\n",
    "else:        \n",
    "    print('Better luck next time...')"
   ]
  },
  {
   "cell_type": "code",
   "execution_count": 4,
   "metadata": {},
   "outputs": [
    {
     "name": "stdout",
     "output_type": "stream",
     "text": [
      "Login: joe\n",
      "You are in!\n",
      "Done.\n"
     ]
    }
   ],
   "source": [
    "#3.4\n",
    "users = ['joe', 'sue', 'hani', 'sophie']\n",
    "id = input('Login: ')\n",
    "if id in users:\n",
    "    print('You are in!')\n",
    "else:\n",
    "    print('User unknown.')\n",
    "print('Done.')"
   ]
  },
  {
   "cell_type": "code",
   "execution_count": 5,
   "metadata": {},
   "outputs": [
    {
     "name": "stdout",
     "output_type": "stream",
     "text": [
      "stop\n",
      "post\n"
     ]
    }
   ],
   "source": [
    "#3.5\n",
    "wordList =  ['stop', 'desktop', 'top', 'post']\n",
    "for word in wordList:\n",
    "    if len(word) == 4:\n",
    "        print(word)"
   ]
  },
  {
   "cell_type": "code",
   "execution_count": 6,
   "metadata": {},
   "outputs": [
    {
     "name": "stdout",
     "output_type": "stream",
     "text": [
      "0 1 2 3 4 5 6 7 8 9 \n",
      "\n",
      "0 1 \n",
      "\n"
     ]
    }
   ],
   "source": [
    "#3.6\n",
    "for i in range(10):\n",
    "    print(i,end=\" \")\n",
    "print(\"\\n\")    \n",
    "for i in range(2):\n",
    "    print(i,end=\" \")\n",
    "print(\"\\n\") "
   ]
  },
  {
   "cell_type": "code",
   "execution_count": 2,
   "metadata": {},
   "outputs": [
    {
     "name": "stdout",
     "output_type": "stream",
     "text": [
      "3 4 5 6 7 8 9 10 11 12 \n",
      "\n",
      "0 2 4 6 8 \n",
      "\n",
      "0 3 6 9 12 15 18 21 \n",
      "\n",
      "3 8 \n",
      "\n"
     ]
    }
   ],
   "source": [
    "#3.7\n",
    "for i in range(3,13):\n",
    "    print (i,end=\" \")\n",
    "print(\"\\n\")\n",
    "for a in range(0,10,2):\n",
    "    print (a,end=\" \")\n",
    "print(\"\\n\")\n",
    "for b in range(0,24,3):\n",
    "    print (b,end=\" \")\n",
    "print(\"\\n\")\n",
    "for c in range(3,12,5):    \n",
    "    print(c,end=\" \")\n",
    "print(\"\\n\") "
   ]
  },
  {
   "cell_type": "code",
   "execution_count": 6,
   "metadata": {},
   "outputs": [
    {
     "name": "stdout",
     "output_type": "stream",
     "text": [
      "6.283185307179586\n",
      "12.566370614359172\n"
     ]
    }
   ],
   "source": [
    "#3.8\n",
    "import math\n",
    "def perimeter(radius):\n",
    "     p=2 * math.pi * radius\n",
    "     print (p)\n",
    "perimeter(1)\n",
    "perimeter(2)"
   ]
  },
  {
   "cell_type": "code",
   "execution_count": 7,
   "metadata": {},
   "outputs": [
    {
     "name": "stdout",
     "output_type": "stream",
     "text": [
      "2.0\n",
      "2.75\n"
     ]
    }
   ],
   "source": [
    "#3.9\n",
    "def average(x, y):\n",
    "    print ((x + y) / 2)\n",
    "average(1,3)\n",
    "average(2,3.5)"
   ]
  },
  {
   "cell_type": "code",
   "execution_count": 8,
   "metadata": {},
   "outputs": [
    {
     "data": {
      "text/plain": [
       "True"
      ]
     },
     "execution_count": 8,
     "metadata": {},
     "output_type": "execute_result"
    }
   ],
   "source": [
    "#3.10\n",
    "def noVowel(s):\n",
    "    for c in s:\n",
    "        if c in 'aeiouAEIOU':\n",
    "            return False\n",
    "    return True\n",
    "noVowel('cws')"
   ]
  },
  {
   "cell_type": "code",
   "execution_count": 9,
   "metadata": {},
   "outputs": [
    {
     "name": "stdout",
     "output_type": "stream",
     "text": [
      "False\n",
      "True\n"
     ]
    }
   ],
   "source": [
    "#3.11\n",
    "def allEven(numList):\n",
    "\n",
    "    for num in numList:\n",
    "        if num%2 != 0:\n",
    "            return False\n",
    "    return True\n",
    "allEven([8, 0, -1, 4, -6, 10])"
   ]
  },
  {
   "cell_type": "code",
   "execution_count": 14,
   "metadata": {},
   "outputs": [
    {
     "name": "stdout",
     "output_type": "stream",
     "text": [
      "-1\n",
      "-3\n",
      "-9\n"
     ]
    }
   ],
   "source": [
    "#3.12\n",
    "def negatives(lst):\n",
    "    'prints the negative numbers in list lst'\n",
    "    for i in lst:\n",
    "        if i < 0:\n",
    "            print(i)\n",
    "negatives([9,6,-1,-3,0,-9])"
   ]
  },
  {
   "cell_type": "code",
   "execution_count": 12,
   "metadata": {},
   "outputs": [
    {
     "name": "stdout",
     "output_type": "stream",
     "text": [
      "Help on function average in module __main__:\n",
      "\n",
      "average(x, y)\n",
      "    #3.9\n",
      "\n",
      "Help on function negatives in module __main__:\n",
      "\n",
      "negatives(lst)\n",
      "    prints the negative numbers in list lst\n",
      "\n"
     ]
    }
   ],
   "source": [
    "#3.13\n",
    "help(average)\n",
    "help(negatives)"
   ]
  },
  {
   "cell_type": "code",
   "execution_count": 13,
   "metadata": {},
   "outputs": [
    {
     "name": "stdout",
     "output_type": "stream",
     "text": [
      "3\n",
      "[5, 6, 7]\n"
     ]
    }
   ],
   "source": [
    "#3.14\n",
    "a=[5,6,7]\n",
    "b=a\n",
    "a=3\n",
    "print(a)\n",
    "print(b)"
   ]
  },
  {
   "cell_type": "code",
   "execution_count": null,
   "metadata": {},
   "outputs": [],
   "source": [
    "#3.15\n",
    "team=['','Henry','John','Sarah']\n",
    "temp= team[0]\n",
    "team[0] = team[-1]\n",
    "team[-1] = temp\n",
    "print(team)"
   ]
  },
  {
   "cell_type": "code",
   "execution_count": null,
   "metadata": {},
   "outputs": [],
   "source": [
    "#3.16\n",
    "def swapFL():\n",
    "    ing = ['banana', 'grapes', 'make', 'apples']\n",
    "    temp = ing[0]\n",
    "    ing[0] = ing[-1]\n",
    "    ing[-1] = temp\n",
    "    print (ing)\n",
    "swapFL() "
   ]
  },
  {
   "cell_type": "code",
   "execution_count": 15,
   "metadata": {},
   "outputs": [
    {
     "name": "stdout",
     "output_type": "stream",
     "text": [
      "7\n",
      "hello\n",
      "hello world!\n",
      "2\n"
     ]
    }
   ],
   "source": [
    "#3.17\n",
    "print(eval(\"2 * 3 + 1\"))\n",
    "print(eval(\"'hello'\"))\n",
    "print(eval(\"'hello' + ' ' + 'world!'\"))\n",
    "print(eval(\"'ASCII'.count('I')\"))"
   ]
  },
  {
   "cell_type": "code",
   "execution_count": 13,
   "metadata": {},
   "outputs": [
    {
     "name": "stdout",
     "output_type": "stream",
     "text": [
      "OK\n",
      "OK\n"
     ]
    }
   ],
   "source": [
    "#3.18\n",
    "a,b,c=3,4,5\n",
    "if a<b:\n",
    "    print(\"OK\")\n",
    "if c<b:\n",
    "    print(\"OK\")\n",
    "if a+b==c:\n",
    "    print(\"OK\")\n",
    "if a**2+b**2==c**2:\n",
    "    print(\"OK\")"
   ]
  },
  {
   "cell_type": "code",
   "execution_count": 11,
   "metadata": {},
   "outputs": [
    {
     "name": "stdout",
     "output_type": "stream",
     "text": [
      "OK\n",
      "NOT OK\n",
      "NOT OK\n",
      "OK\n"
     ]
    }
   ],
   "source": [
    "#3.19\n",
    "a,b,c=3,4,5\n",
    "if a<b:\n",
    "    print(\"OK\")\n",
    "else:\n",
    "    print(\"NOT OK\")\n",
    "if c<b:\n",
    "    print(\"OK\")\n",
    "else:\n",
    "    print(\"NOT OK\")\n",
    "if a+b==c:\n",
    "    print(\"OK\")\n",
    "else:\n",
    "    print(\"NOT OK\")\n",
    "if a**2+b**2==c**2:\n",
    "    print(\"OK\")\n",
    "else:\n",
    "    print(\"NOT OK\")"
   ]
  },
  {
   "cell_type": "code",
   "execution_count": 15,
   "metadata": {},
   "outputs": [
    {
     "name": "stdout",
     "output_type": "stream",
     "text": [
      "Jan\n",
      "Feb\n",
      "Mar\n"
     ]
    }
   ],
   "source": [
    "#3.20\n",
    "lst=[\"January\",\"February\",\"March\"]\n",
    "for word in lst:\n",
    "    print(word[:3])"
   ]
  },
  {
   "cell_type": "code",
   "execution_count": 16,
   "metadata": {},
   "outputs": [
    {
     "name": "stdout",
     "output_type": "stream",
     "text": [
      "2\n",
      "4\n",
      "6\n",
      "8\n"
     ]
    }
   ],
   "source": [
    "#3.21\n",
    "lst=[2,3,4,5,6,7,8,9]\n",
    "for i in lst:\n",
    "    if i%2==0:\n",
    "        print(i)\n",
    "    "
   ]
  },
  {
   "cell_type": "code",
   "execution_count": 18,
   "metadata": {},
   "outputs": [
    {
     "name": "stdout",
     "output_type": "stream",
     "text": [
      "4\n",
      "8\n"
     ]
    }
   ],
   "source": [
    "#3.22\n",
    "lst=[1,2,3,4,5,6,7,8,9]\n",
    "for i in lst:\n",
    "    if(i**2)%8==0:\n",
    "        print(i)"
   ]
  },
  {
   "cell_type": "code",
   "execution_count": 46,
   "metadata": {},
   "outputs": [
    {
     "name": "stdout",
     "output_type": "stream",
     "text": [
      "0 1 0\n",
      "3 4 5 6 1 0\n",
      "3\n",
      "5 9 13 17 21 "
     ]
    }
   ],
   "source": [
    "#3.23\n",
    "i=[0,1,2,3,4,5,6,7,8,9,10,11,12,13,14,15,16,17,18,19,20,21]\n",
    "for i in range(2):\n",
    "    print(i,end=\" \")\n",
    "for i in range(1):\n",
    "    print(i)\n",
    "for i in range(3,7):\n",
    "    print(i,end=\" \")\n",
    "for i in range(1,2):\n",
    "    print(i,end=\" \")\n",
    "for i in range(0,4,3):\n",
    "    print(i)\n",
    "for i in range(5,22,4):\n",
    "    print(i,end=\" \")"
   ]
  },
  {
   "cell_type": "code",
   "execution_count": 1,
   "metadata": {},
   "outputs": [
    {
     "name": "stdout",
     "output_type": "stream",
     "text": [
      "cia\n",
      "mi6\n",
      "isi\n"
     ]
    }
   ],
   "source": [
    "#3.24\n",
    "lst=[\"cia\",\"secret\",\"mi6\",\"isi\",\"secret\"]\n",
    "for word in lst:\n",
    "    if word!=\"secret\":\n",
    "        print(word)"
   ]
  },
  {
   "cell_type": "code",
   "execution_count": 5,
   "metadata": {},
   "outputs": [
    {
     "name": "stdout",
     "output_type": "stream",
     "text": [
      "Ellie\n",
      "Steve\n",
      "Sam\n",
      "Owen\n",
      "Gavin\n"
     ]
    }
   ],
   "source": [
    "#3.25\n",
    "list=[\"Ellie\",\"Steve\",\"Sam\",\"Owen\",\"Gavin\"]\n",
    "for word in list:\n",
    "    if word [1]>=\"A\"and word [1]>=\"M\":\n",
    "        print(word)"
   ]
  },
  {
   "cell_type": "code",
   "execution_count": 8,
   "metadata": {},
   "outputs": [
    {
     "name": "stdout",
     "output_type": "stream",
     "text": [
      "The first list element is 3\n",
      "The last list element is 9\n"
     ]
    }
   ],
   "source": [
    "#3.26\n",
    "list=[3,5,7,9]\n",
    "print(\"The first list element is\",list[0])\n",
    "print(\"The last list element is\",list[-1])"
   ]
  },
  {
   "cell_type": "code",
   "execution_count": 6,
   "metadata": {},
   "outputs": [
    {
     "name": "stdout",
     "output_type": "stream",
     "text": [
      "Enter n: 7\n",
      "0\n",
      "7\n",
      "14\n",
      "21\n"
     ]
    }
   ],
   "source": [
    "#3.27\n",
    "n = eval(input(\"Enter n: \" ))\n",
    "for i in range(4):\n",
    "    print(n*i)\n"
   ]
  },
  {
   "cell_type": "code",
   "execution_count": 14,
   "metadata": {},
   "outputs": [
    {
     "name": "stdout",
     "output_type": "stream",
     "text": [
      "Enter n: 5\n",
      "0\n",
      "1\n",
      "4\n",
      "9\n",
      "16\n"
     ]
    }
   ],
   "source": [
    "#3.28\n",
    "n=eval(input(\"Enter n: \" ))\n",
    "for i in range(n):\n",
    "    print(i*i)"
   ]
  },
  {
   "cell_type": "code",
   "execution_count": 16,
   "metadata": {},
   "outputs": [
    {
     "name": "stdout",
     "output_type": "stream",
     "text": [
      "Enter n: 2\n",
      "1\n",
      "2\n"
     ]
    }
   ],
   "source": [
    "#3.29\n",
    "n=eval(input(\"Enter n: \" ))\n",
    "for i in range(1,n+1):\n",
    "    if(n%i==0):\n",
    "        print(i)"
   ]
  },
  {
   "cell_type": "code",
   "execution_count": 3,
   "metadata": {},
   "outputs": [
    {
     "name": "stdout",
     "output_type": "stream",
     "text": [
      "Enter first number: 4.5\n",
      "Enter second number: 3\n",
      "Enter third number: 3\n",
      "Enter last number: 3.5\n",
      "Equal\n"
     ]
    }
   ],
   "source": [
    "#3.30\n",
    "n1=float(input(\"Enter first number: \"))\n",
    "n2=float(input(\"Enter second number: \"))\n",
    "n3=float(input(\"Enter third number: \"))\n",
    "n4=float(input(\"Enter last number: \"))\n",
    "if (n1+n2+n3)/3 == n4:\n",
    "    print(\"Equal\")"
   ]
  },
  {
   "cell_type": "code",
   "execution_count": 4,
   "metadata": {},
   "outputs": [
    {
     "name": "stdout",
     "output_type": "stream",
     "text": [
      "Enter x: 2.5\n",
      "Enter y: 4\n",
      "It is in!\n"
     ]
    }
   ],
   "source": [
    "#3.31\n",
    "x=float(input(\"Enter x: \"))\n",
    "y=float(input(\"Enter y: \"))\n",
    "if x**2+y**2 < 8**2:\n",
    "    print(\"It is in!\")"
   ]
  },
  {
   "cell_type": "code",
   "execution_count": 16,
   "metadata": {},
   "outputs": [
    {
     "name": "stdout",
     "output_type": "stream",
     "text": [
      "Enter n : 1234\n",
      "1\n",
      "2\n",
      "3\n",
      "4\n"
     ]
    }
   ],
   "source": [
    "#3.32\n",
    "x=input(\"Enter n : \")\n",
    "x.split()\n",
    "for i in x:\n",
    "    print(i)"
   ]
  },
  {
   "cell_type": "code",
   "execution_count": 13,
   "metadata": {},
   "outputs": [
    {
     "name": "stdout",
     "output_type": "stream",
     "text": [
      "cba\n",
      "cat\n"
     ]
    }
   ],
   "source": [
    "#3.33\n",
    "def reverse_string(s):\n",
    "    print (s[::-1])\n",
    "reverse_string('abc')\n",
    "reverse_string('tac')"
   ]
  },
  {
   "cell_type": "code",
   "execution_count": 12,
   "metadata": {},
   "outputs": [
    {
     "name": "stdout",
     "output_type": "stream",
     "text": [
      "250\n",
      "475.0\n"
     ]
    }
   ],
   "source": [
    "#3.34\n",
    "def pay(wage,hour):\n",
    "    payment=0\n",
    "    if(hour>40):\n",
    "        payment=payment +(hour-40)*wage*1.5\n",
    "        payment=payment+(40)*wage\n",
    "    else:\n",
    "        payment=payment+hour*wage\n",
    "    print(payment)\n",
    "pay(10,25)\n",
    "pay(10,45)"
   ]
  },
  {
   "cell_type": "code",
   "execution_count": 77,
   "metadata": {},
   "outputs": [
    {
     "name": "stdout",
     "output_type": "stream",
     "text": [
      "Enter n: 6\n",
      "0.015625\n"
     ]
    }
   ],
   "source": [
    "#3.35\n",
    "def prob(n):\n",
    "    n=int(input(\"Enter n: \"))\n",
    "    print(2**(-n))\n",
    "prob(n)"
   ]
  },
  {
   "cell_type": "code",
   "execution_count": 8,
   "metadata": {},
   "outputs": [
    {
     "name": "stdout",
     "output_type": "stream",
     "text": [
      "54\n"
     ]
    }
   ],
   "source": [
    "#3.36\n",
    "def reverse_int(n):\n",
    "    x=0\n",
    "    while(n!=0):\n",
    "        x*=10\n",
    "        x+=n%10\n",
    "        n=n//10\n",
    "    print(x)\n",
    "reverse_int(45)"
   ]
  },
  {
   "cell_type": "code",
   "execution_count": 75,
   "metadata": {},
   "outputs": [
    {
     "name": "stdout",
     "output_type": "stream",
     "text": [
      "Enter a number : 5\n",
      "Enter a number : 7\n",
      "Enter a number : 8\n",
      "Enter a number : 6\n",
      "The slope is -1.0 and the distance is 2.8284271247461903\n"
     ]
    }
   ],
   "source": [
    "#3.37\n",
    "import math\n",
    "def points():\n",
    "    x1=eval(input(\"Enter a number : \"))\n",
    "    x2=eval(input(\"Enter a number : \"))\n",
    "    y1=eval(input(\"Enter a number : \"))\n",
    "    y2=eval(input(\"Enter a number : \"))\n",
    "    distance = str(math.sqrt((x1-x2)**2+(y1-y2)**2))\n",
    "    if(x1==x2):\n",
    "        slope = \"infinity\"\n",
    "    else:\n",
    "        slope = str((y2-y1)/(x2-x1))\n",
    "    print(\"The slope is \"+slope+\" and the distance is \"+distance)\n",
    "points()\n"
   ]
  },
  {
   "cell_type": "code",
   "execution_count": 67,
   "metadata": {},
   "outputs": [
    {
     "name": "stdout",
     "output_type": "stream",
     "text": [
      "Enter a day : Monday\n",
      "Mon\n"
     ]
    }
   ],
   "source": [
    "#3.38\n",
    "def abbreviation():\n",
    "    day=input(\"Enter a day : \")\n",
    "    if(day==\"Monday\"):\n",
    "        print(\"Mon\")\n",
    "    elif(day==\"Tuesday\"):\n",
    "        print(\"Tu\")\n",
    "    elif(day==\"Wednesday\"):\n",
    "        print(\"Wed\")\n",
    "    elif(day==\"Thursday\"):\n",
    "        print(\"Th\")\n",
    "    elif(day==\"Friday\"):\n",
    "        print(\"Fri\")\n",
    "    elif(day==\"Saturday\"):\n",
    "        print(\"Sa\")\n",
    "    elif(day==\"Sunday\"):\n",
    "        print(\"Su\")\n",
    "abbreviation()"
   ]
  },
  {
   "cell_type": "code",
   "execution_count": 54,
   "metadata": {},
   "outputs": [
    {
     "name": "stdout",
     "output_type": "stream",
     "text": [
      "Enter a number : 2\n",
      "Enter a number : 3\n",
      "Enter a number : 4\n",
      "Enter a number : 5\n",
      "Enter the radius of the first circle : 8\n",
      "Enter the radius of the second circle : 10\n",
      "True\n"
     ]
    }
   ],
   "source": [
    "#3.39\n",
    "def collision():\n",
    "    x1=eval(input(\"Enter a number : \"))\n",
    "    x2=eval(input(\"Enter a number : \"))\n",
    "    y1=eval(input(\"Enter a number : \"))\n",
    "    y2=eval(input(\"Enter a number : \"))\n",
    "    r1=eval(input(\"Enter the radius of the first circle : \"))\n",
    "    r2=eval(input(\"Enter the radius of the second circle : \"))\n",
    "    if(math.sqrt((x1-x2)**2+(y1-y2)**2) > r1+r2):\n",
    "        print(\"False\")\n",
    "    else:\n",
    "        print(\"True\")\n",
    "collision()"
   ]
  },
  {
   "cell_type": "code",
   "execution_count": 61,
   "metadata": {},
   "outputs": [
    {
     "name": "stdout",
     "output_type": "stream",
     "text": [
      "Eleanor\n",
      "Evelyn\n",
      "Gavin\n"
     ]
    }
   ],
   "source": [
    "#3.40\n",
    "def partition():\n",
    "    list=['Eleanor', 'Evelyn', 'sammy', 'owen', 'Gavin']\n",
    "    for name in list:\n",
    "        if name[0] >= \"A\" and name[0] <= \"M\":\n",
    "            print(name)\n",
    "partition()"
   ]
  },
  {
   "cell_type": "code",
   "execution_count": 17,
   "metadata": {},
   "outputs": [
    {
     "name": "stdout",
     "output_type": "stream",
     "text": [
      "Input your first name : john\n",
      "Input your last name : henry\n",
      "henry, j.\n"
     ]
    }
   ],
   "source": [
    "#3.41\n",
    "def lastF():\n",
    "    firstname = input(\"Input your first name : \")\n",
    "    lastname = input(\"Input your last name : \")\n",
    "    print(lastname+\", \"+firstname[0]+\".\")\n",
    "lastF()"
   ]
  },
  {
   "cell_type": "code",
   "execution_count": 7,
   "metadata": {},
   "outputs": [
    {
     "name": "stdout",
     "output_type": "stream",
     "text": [
      "90.0\n",
      "60.0\n",
      "87.0\n",
      "11.0\n"
     ]
    }
   ],
   "source": [
    "#3.42\n",
    "def avg(lists):\n",
    "    for list in lists:\n",
    "        print(sum(list)/len(list))\n",
    "avg([[95, 92, 86, 87], [66, 54], [89, 72, 100], [33, 0, 0]])"
   ]
  },
  {
   "cell_type": "code",
   "execution_count": 39,
   "metadata": {},
   "outputs": [
    {
     "name": "stdout",
     "output_type": "stream",
     "text": [
      "Enter a number : 3\n",
      "Enter a number : 5\n",
      "Enter a number : 4\n",
      "Enter a number : 6\n",
      "Enter the radius of the circle : 8\n",
      "False\n"
     ]
    }
   ],
   "source": [
    "#3.43\n",
    "import math\n",
    "def hit():\n",
    "    x1=eval(input(\"Enter a number : \"))\n",
    "    x2=eval(input(\"Enter a number : \"))\n",
    "    y1=eval(input(\"Enter a number : \"))\n",
    "    y2=eval(input(\"Enter a number : \"))\n",
    "    r=eval(input(\"Enter the radius of the circle : \"))\n",
    "    if (math.sqrt((x1-x2)**2+(y1-y2)**2) > r):\n",
    "        print(\"True\")\n",
    "    else:\n",
    "        print(\"False\")\n",
    "hit()"
   ]
  },
  {
   "cell_type": "code",
   "execution_count": 41,
   "metadata": {},
   "outputs": [
    {
     "name": "stdout",
     "output_type": "stream",
     "text": [
      "enter the distance: 45\n",
      "15.31305\n"
     ]
    }
   ],
   "source": [
    "#3.44\n",
    "def distance(n):\n",
    "    n=eval(input(\"enter the distance: \"))\n",
    "    print(n*340.29/1000)\n",
    "distance(n)"
   ]
  },
  {
   "cell_type": "code",
   "execution_count": null,
   "metadata": {},
   "outputs": [],
   "source": []
  }
 ],
 "metadata": {
  "kernelspec": {
   "display_name": "Python 3",
   "language": "python",
   "name": "python3"
  },
  "language_info": {
   "codemirror_mode": {
    "name": "ipython",
    "version": 3
   },
   "file_extension": ".py",
   "mimetype": "text/x-python",
   "name": "python",
   "nbconvert_exporter": "python",
   "pygments_lexer": "ipython3",
   "version": "3.7.4"
  }
 },
 "nbformat": 4,
 "nbformat_minor": 2
}
